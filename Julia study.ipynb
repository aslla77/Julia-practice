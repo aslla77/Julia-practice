{
 "cells": [
  {
   "cell_type": "markdown",
   "id": "1a3b84ac",
   "metadata": {},
   "source": [
    "# 변수\n"
   ]
  },
  {
   "cell_type": "code",
   "execution_count": 6,
   "id": "b3c208b4",
   "metadata": {},
   "outputs": [
    {
     "data": {
      "text/plain": [
       "π = 3.1415926535897..."
      ]
     },
     "execution_count": 6,
     "metadata": {},
     "output_type": "execute_result"
    }
   ],
   "source": [
    "pi"
   ]
  },
  {
   "cell_type": "code",
   "execution_count": 7,
   "id": "b4ed7c7d",
   "metadata": {},
   "outputs": [
    {
     "data": {
      "text/plain": [
       "1"
      ]
     },
     "execution_count": 7,
     "metadata": {},
     "output_type": "execute_result"
    }
   ],
   "source": [
    "νᵣ=1 #\\delta(tap)\\_r(tap) =1"
   ]
  },
  {
   "cell_type": "code",
   "execution_count": 8,
   "id": "9e4c1ae5",
   "metadata": {},
   "outputs": [
    {
     "data": {
      "text/plain": [
       "Int64"
      ]
     },
     "execution_count": 8,
     "metadata": {},
     "output_type": "execute_result"
    }
   ],
   "source": [
    "typeof(1) #시스템 사이즈에 따라 Int32 와 Int64 로 나뉜다. "
   ]
  },
  {
   "cell_type": "code",
   "execution_count": 10,
   "id": "b5b498c1",
   "metadata": {},
   "outputs": [
    {
     "data": {
      "text/plain": [
       "64"
      ]
     },
     "execution_count": 10,
     "metadata": {},
     "output_type": "execute_result"
    }
   ],
   "source": [
    "Sys.WORD_SIZE #시스템 사이즈를 알려준다"
   ]
  },
  {
   "cell_type": "markdown",
   "id": "f609579e",
   "metadata": {},
   "source": [
    "## 오버플로우(Overflow) 동작"
   ]
  },
  {
   "cell_type": "code",
   "execution_count": 11,
   "id": "3600e6ab",
   "metadata": {},
   "outputs": [
    {
     "data": {
      "text/plain": [
       "9223372036854775807"
      ]
     },
     "execution_count": 11,
     "metadata": {},
     "output_type": "execute_result"
    }
   ],
   "source": [
    "x = typemax(Int64)"
   ]
  },
  {
   "cell_type": "code",
   "execution_count": 12,
   "id": "da1221cb",
   "metadata": {},
   "outputs": [
    {
     "data": {
      "text/plain": [
       "-9223372036854775808"
      ]
     },
     "execution_count": 12,
     "metadata": {},
     "output_type": "execute_result"
    }
   ],
   "source": [
    "x+1"
   ]
  },
  {
   "cell_type": "code",
   "execution_count": 13,
   "id": "d9500138",
   "metadata": {},
   "outputs": [
    {
     "data": {
      "text/plain": [
       "true"
      ]
     },
     "execution_count": 13,
     "metadata": {},
     "output_type": "execute_result"
    }
   ],
   "source": [
    "x+1 == typemin(Int64)"
   ]
  },
  {
   "cell_type": "code",
   "execution_count": 14,
   "id": "03fe4c78",
   "metadata": {},
   "outputs": [
    {
     "data": {
      "text/plain": [
       "1.0"
      ]
     },
     "execution_count": 14,
     "metadata": {},
     "output_type": "execute_result"
    }
   ],
   "source": [
    "1.0"
   ]
  },
  {
   "cell_type": "code",
   "execution_count": 15,
   "id": "95af0424",
   "metadata": {},
   "outputs": [
    {
     "data": {
      "text/plain": [
       "1.0"
      ]
     },
     "execution_count": 15,
     "metadata": {},
     "output_type": "execute_result"
    }
   ],
   "source": [
    "1."
   ]
  },
  {
   "cell_type": "code",
   "execution_count": 16,
   "id": "8af14c61",
   "metadata": {},
   "outputs": [
    {
     "data": {
      "text/plain": [
       "0.5"
      ]
     },
     "execution_count": 16,
     "metadata": {},
     "output_type": "execute_result"
    }
   ],
   "source": [
    ".5"
   ]
  },
  {
   "cell_type": "code",
   "execution_count": 17,
   "id": "e51e84c7",
   "metadata": {},
   "outputs": [
    {
     "data": {
      "text/plain": [
       "(10000, 5.0e-9, 0xdeadbeef, 0xb2)"
      ]
     },
     "execution_count": 17,
     "metadata": {},
     "output_type": "execute_result"
    }
   ],
   "source": [
    "10_000, 0.000_000_005, 0xdead_beef,0b1011_0010"
   ]
  },
  {
   "cell_type": "code",
   "execution_count": 18,
   "id": "cb4d9d45",
   "metadata": {},
   "outputs": [
    {
     "data": {
      "text/plain": [
       "true"
      ]
     },
     "execution_count": 18,
     "metadata": {},
     "output_type": "execute_result"
    }
   ],
   "source": [
    "0.0 == -0.0"
   ]
  },
  {
   "cell_type": "code",
   "execution_count": 20,
   "id": "132e7e9f",
   "metadata": {},
   "outputs": [
    {
     "name": "stdout",
     "output_type": "stream",
     "text": [
      "0000000000000000000000000000000000000000000000000000000000000000\n",
      "1000000000000000000000000000000000000000000000000000000000000000\n"
     ]
    }
   ],
   "source": [
    "println(bitstring(0.0))\n",
    "println(bitstring(-0.0))"
   ]
  },
  {
   "cell_type": "code",
   "execution_count": 21,
   "id": "b73d50ba",
   "metadata": {},
   "outputs": [
    {
     "data": {
      "text/plain": [
       "0.0"
      ]
     },
     "execution_count": 21,
     "metadata": {},
     "output_type": "execute_result"
    }
   ],
   "source": [
    "1/Inf"
   ]
  },
  {
   "cell_type": "code",
   "execution_count": 22,
   "id": "5240ca08",
   "metadata": {
    "scrolled": true
   },
   "outputs": [
    {
     "data": {
      "text/plain": [
       "NaN"
      ]
     },
     "execution_count": 22,
     "metadata": {},
     "output_type": "execute_result"
    }
   ],
   "source": [
    "0/0"
   ]
  },
  {
   "cell_type": "markdown",
   "id": "0bc6132a",
   "metadata": {},
   "source": [
    "## 계산기 입실론(Machine epsilon)\n",
    "\n",
    "대부분 실수들은 부동 소수점 형태로는 정확하게 표현할 수 없다. 그리고 현재로서는 많은 경우 두 인접한 부동 소수점으로 표현 가능한 실수가 얼만큼 떨어져 있는지 알 필요가 있다. 따라서 이를 위해 계산기 입실론(machine epsilon)이라는 개념이 도입하게 되었다."
   ]
  },
  {
   "cell_type": "code",
   "execution_count": 27,
   "id": "5d3f6e31",
   "metadata": {},
   "outputs": [
    {
     "data": {
      "text/plain": [
       "1.1920929f-7"
      ]
     },
     "execution_count": 27,
     "metadata": {},
     "output_type": "execute_result"
    }
   ],
   "source": [
    "eps(Float32)"
   ]
  },
  {
   "cell_type": "code",
   "execution_count": 28,
   "id": "d4ecd79e",
   "metadata": {},
   "outputs": [
    {
     "data": {
      "text/plain": [
       "2.220446049250313e-16"
      ]
     },
     "execution_count": 28,
     "metadata": {},
     "output_type": "execute_result"
    }
   ],
   "source": [
    "eps(Float64)"
   ]
  },
  {
   "cell_type": "code",
   "execution_count": 29,
   "id": "586d3cb1",
   "metadata": {
    "scrolled": true
   },
   "outputs": [
    {
     "data": {
      "text/plain": [
       "2.220446049250313e-16"
      ]
     },
     "execution_count": 29,
     "metadata": {},
     "output_type": "execute_result"
    }
   ],
   "source": [
    "eps(1.0)"
   ]
  },
  {
   "cell_type": "markdown",
   "id": "ecd743a9",
   "metadata": {},
   "source": [
    "## 수치형 리터럴 계수"
   ]
  },
  {
   "cell_type": "code",
   "execution_count": 30,
   "id": "a1732254",
   "metadata": {},
   "outputs": [
    {
     "data": {
      "text/plain": [
       "3"
      ]
     },
     "execution_count": 30,
     "metadata": {},
     "output_type": "execute_result"
    }
   ],
   "source": [
    "x = 3"
   ]
  },
  {
   "cell_type": "code",
   "execution_count": 31,
   "id": "c5595835",
   "metadata": {},
   "outputs": [
    {
     "data": {
      "text/plain": [
       "10"
      ]
     },
     "execution_count": 31,
     "metadata": {},
     "output_type": "execute_result"
    }
   ],
   "source": [
    "2x^2-3x+1"
   ]
  },
  {
   "cell_type": "code",
   "execution_count": 32,
   "id": "fc06ae9a",
   "metadata": {},
   "outputs": [
    {
     "data": {
      "text/plain": [
       "64"
      ]
     },
     "execution_count": 32,
     "metadata": {},
     "output_type": "execute_result"
    }
   ],
   "source": [
    "2^2x"
   ]
  },
  {
   "cell_type": "code",
   "execution_count": 34,
   "id": "e0bbc68f",
   "metadata": {},
   "outputs": [
    {
     "data": {
      "text/plain": [
       "6"
      ]
     },
     "execution_count": 34,
     "metadata": {},
     "output_type": "execute_result"
    }
   ],
   "source": [
    "(x-1)x"
   ]
  },
  {
   "cell_type": "code",
   "execution_count": 33,
   "id": "054eeeca",
   "metadata": {},
   "outputs": [
    {
     "ename": "LoadError",
     "evalue": "MethodError: objects of type Int64 are not callable\nMaybe you forgot to use an operator such as \u001b[36m*, ^, %, / etc. \u001b[39m?",
     "output_type": "error",
     "traceback": [
      "MethodError: objects of type Int64 are not callable\nMaybe you forgot to use an operator such as \u001b[36m*, ^, %, / etc. \u001b[39m?",
      "",
      "Stacktrace:",
      " [1] top-level scope",
      "   @ In[33]:1"
     ]
    }
   ],
   "source": [
    "x(x-1) #x 앞에 괄호가 생기면 에러"
   ]
  },
  {
   "cell_type": "markdown",
   "id": "6d33be4a",
   "metadata": {},
   "source": [
    "## 연산자"
   ]
  },
  {
   "cell_type": "code",
   "execution_count": 54,
   "id": "10948340",
   "metadata": {},
   "outputs": [
    {
     "name": "stdout",
     "output_type": "stream",
     "text": [
      "x=7\n",
      "y=2\n"
     ]
    }
   ],
   "source": [
    "x = 7\n",
    "y = 2\n",
    "println(\"x=\",x,\"\\ny=\",y)"
   ]
  },
  {
   "cell_type": "code",
   "execution_count": 55,
   "id": "cc034156",
   "metadata": {},
   "outputs": [
    {
     "data": {
      "text/plain": [
       "7"
      ]
     },
     "execution_count": 55,
     "metadata": {},
     "output_type": "execute_result"
    }
   ],
   "source": [
    "+x"
   ]
  },
  {
   "cell_type": "code",
   "execution_count": 56,
   "id": "3775ca17",
   "metadata": {},
   "outputs": [
    {
     "data": {
      "text/plain": [
       "-7"
      ]
     },
     "execution_count": 56,
     "metadata": {},
     "output_type": "execute_result"
    }
   ],
   "source": [
    "-x"
   ]
  },
  {
   "cell_type": "code",
   "execution_count": 57,
   "id": "1a113e40",
   "metadata": {},
   "outputs": [
    {
     "data": {
      "text/plain": [
       "9"
      ]
     },
     "execution_count": 57,
     "metadata": {},
     "output_type": "execute_result"
    }
   ],
   "source": [
    "x+y"
   ]
  },
  {
   "cell_type": "code",
   "execution_count": 58,
   "id": "dbe79e23",
   "metadata": {},
   "outputs": [
    {
     "data": {
      "text/plain": [
       "3.5"
      ]
     },
     "execution_count": 58,
     "metadata": {},
     "output_type": "execute_result"
    }
   ],
   "source": [
    "x / y"
   ]
  },
  {
   "cell_type": "code",
   "execution_count": 59,
   "id": "5d1e7e7d",
   "metadata": {},
   "outputs": [
    {
     "data": {
      "text/plain": [
       "0.2857142857142857"
      ]
     },
     "execution_count": 59,
     "metadata": {},
     "output_type": "execute_result"
    }
   ],
   "source": [
    "x \\ y"
   ]
  },
  {
   "cell_type": "code",
   "execution_count": 60,
   "id": "bf87ef9a",
   "metadata": {},
   "outputs": [
    {
     "data": {
      "text/plain": [
       "1"
      ]
     },
     "execution_count": 60,
     "metadata": {},
     "output_type": "execute_result"
    }
   ],
   "source": [
    "x%y"
   ]
  },
  {
   "cell_type": "code",
   "execution_count": 61,
   "id": "d4f0238d",
   "metadata": {},
   "outputs": [
    {
     "data": {
      "text/plain": [
       "1"
      ]
     },
     "execution_count": 61,
     "metadata": {},
     "output_type": "execute_result"
    }
   ],
   "source": [
    "rem(x,y)"
   ]
  },
  {
   "cell_type": "code",
   "execution_count": 63,
   "id": "38ad111d",
   "metadata": {},
   "outputs": [
    {
     "data": {
      "text/plain": [
       "10"
      ]
     },
     "execution_count": 63,
     "metadata": {},
     "output_type": "execute_result"
    }
   ],
   "source": [
    "x+=3"
   ]
  },
  {
   "cell_type": "code",
   "execution_count": 64,
   "id": "f8e879e0",
   "metadata": {},
   "outputs": [
    {
     "data": {
      "text/plain": [
       "10"
      ]
     },
     "execution_count": 64,
     "metadata": {},
     "output_type": "execute_result"
    }
   ],
   "source": [
    "x"
   ]
  },
  {
   "cell_type": "code",
   "execution_count": 65,
   "id": "0581c8d2",
   "metadata": {},
   "outputs": [
    {
     "data": {
      "text/plain": [
       "3-element Vector{Int64}:\n",
       "  1\n",
       "  8\n",
       " 27"
      ]
     },
     "execution_count": 65,
     "metadata": {},
     "output_type": "execute_result"
    }
   ],
   "source": [
    "[1,2,3] .^3 #dot 연산자 "
   ]
  },
  {
   "cell_type": "code",
   "execution_count": 66,
   "id": "b2f11fb6",
   "metadata": {},
   "outputs": [
    {
     "data": {
      "text/plain": [
       "3-element BitVector:\n",
       " 0\n",
       " 1\n",
       " 0"
      ]
     },
     "execution_count": 66,
     "metadata": {},
     "output_type": "execute_result"
    }
   ],
   "source": [
    ".![true, false, true] #!단항 연산자"
   ]
  },
  {
   "cell_type": "markdown",
   "id": "ea657240",
   "metadata": {},
   "source": [
    "## 비교연산자 \n",
    "\n",
    "유한한 수는 일반적인 방식으로 이뤄진다.\n",
    "\n",
    "+0과 -0은 서로 같다.\n",
    "\n",
    "Inf 는 NaN와 자신을 제외한 수보다 크고, 자기 자신과는 같다.\n",
    "\n",
    "Inf 는 NaN와 자신을 제외한 수보다 작고, 자기 자신과는 같다.\n",
    "\n",
    "NaN 는 자신을 포함한 그 어떤 수와 같지 않고, 크지도 않고, 작지도 않다.\n"
   ]
  },
  {
   "cell_type": "code",
   "execution_count": 67,
   "id": "628592a5",
   "metadata": {},
   "outputs": [
    {
     "data": {
      "text/plain": [
       "true"
      ]
     },
     "execution_count": 67,
     "metadata": {},
     "output_type": "execute_result"
    }
   ],
   "source": [
    "# 비교연산 이어쓰기\n",
    "1 < 2 <= 2 < 3 == 3 > 2 >= 1 == 1 < 3 !=5 "
   ]
  },
  {
   "cell_type": "code",
   "execution_count": 72,
   "id": "f9e74c01",
   "metadata": {},
   "outputs": [
    {
     "data": {
      "text/plain": [
       "v (generic function with 1 method)"
      ]
     },
     "execution_count": 72,
     "metadata": {},
     "output_type": "execute_result"
    }
   ],
   "source": [
    "v(x) = (println(x); x)"
   ]
  },
  {
   "cell_type": "code",
   "execution_count": 73,
   "id": "7b512357",
   "metadata": {},
   "outputs": [
    {
     "name": "stdout",
     "output_type": "stream",
     "text": [
      "2\n",
      "1\n",
      "3\n"
     ]
    },
    {
     "data": {
      "text/plain": [
       "true"
      ]
     },
     "execution_count": 73,
     "metadata": {},
     "output_type": "execute_result"
    }
   ],
   "source": [
    "v(1) < v(2) <=v(3) #계산량이 적다"
   ]
  },
  {
   "cell_type": "code",
   "execution_count": 75,
   "id": "18c2b682",
   "metadata": {},
   "outputs": [
    {
     "name": "stdout",
     "output_type": "stream",
     "text": [
      "1\n",
      "2\n",
      "2\n",
      "3\n"
     ]
    },
    {
     "data": {
      "text/plain": [
       "true"
      ]
     },
     "execution_count": 75,
     "metadata": {},
     "output_type": "execute_result"
    }
   ],
   "source": [
    " v(1) < v(2) && v(2) <= v(3) #계산량이 많다"
   ]
  },
  {
   "cell_type": "code",
   "execution_count": 74,
   "id": "ae56fcf5",
   "metadata": {},
   "outputs": [
    {
     "name": "stdout",
     "output_type": "stream",
     "text": [
      "2\n",
      "1\n"
     ]
    },
    {
     "data": {
      "text/plain": [
       "false"
      ]
     },
     "execution_count": 74,
     "metadata": {},
     "output_type": "execute_result"
    }
   ],
   "source": [
    "v(1) > v(2) <= v(3)"
   ]
  },
  {
   "cell_type": "code",
   "execution_count": 76,
   "id": "e7a2c69b",
   "metadata": {},
   "outputs": [
    {
     "data": {
      "text/plain": [
       "-3"
      ]
     },
     "execution_count": 76,
     "metadata": {},
     "output_type": "execute_result"
    }
   ],
   "source": [
    "x = -3"
   ]
  },
  {
   "cell_type": "code",
   "execution_count": 77,
   "id": "26ffbddd",
   "metadata": {},
   "outputs": [
    {
     "data": {
      "text/plain": [
       "3"
      ]
     },
     "execution_count": 77,
     "metadata": {},
     "output_type": "execute_result"
    }
   ],
   "source": [
    "abs(x) # 절댓값"
   ]
  },
  {
   "cell_type": "code",
   "execution_count": 78,
   "id": "a4f0dfc2",
   "metadata": {},
   "outputs": [
    {
     "data": {
      "text/plain": [
       "9"
      ]
     },
     "execution_count": 78,
     "metadata": {},
     "output_type": "execute_result"
    }
   ],
   "source": [
    "abs2(x) # 절댓값 제곱"
   ]
  },
  {
   "cell_type": "code",
   "execution_count": 79,
   "id": "86035b34",
   "metadata": {},
   "outputs": [
    {
     "data": {
      "text/plain": [
       "-1"
      ]
     },
     "execution_count": 79,
     "metadata": {},
     "output_type": "execute_result"
    }
   ],
   "source": [
    "sign(x) #음수 양수 판별"
   ]
  },
  {
   "cell_type": "code",
   "execution_count": 80,
   "id": "8d0897dd",
   "metadata": {},
   "outputs": [
    {
     "data": {
      "text/plain": [
       "1"
      ]
     },
     "execution_count": 80,
     "metadata": {},
     "output_type": "execute_result"
    }
   ],
   "source": [
    "x=3 \n",
    "sign(x)"
   ]
  },
  {
   "cell_type": "code",
   "execution_count": 84,
   "id": "9f0fe4f3",
   "metadata": {},
   "outputs": [
    {
     "data": {
      "text/plain": [
       "2.0"
      ]
     },
     "execution_count": 84,
     "metadata": {},
     "output_type": "execute_result"
    }
   ],
   "source": [
    "x=4\n",
    "sqrt(x)"
   ]
  },
  {
   "cell_type": "code",
   "execution_count": 85,
   "id": "50085229",
   "metadata": {},
   "outputs": [
    {
     "data": {
      "text/plain": [
       "2.0"
      ]
     },
     "execution_count": 85,
     "metadata": {},
     "output_type": "execute_result"
    }
   ],
   "source": [
    "x=8\n",
    "cbrt(x)"
   ]
  },
  {
   "cell_type": "markdown",
   "id": "d7897bf8",
   "metadata": {},
   "source": [
    "## 복소수"
   ]
  },
  {
   "cell_type": "code",
   "execution_count": 86,
   "id": "9a4d6b61",
   "metadata": {},
   "outputs": [
    {
     "data": {
      "text/plain": [
       "1 + 2im"
      ]
     },
     "execution_count": 86,
     "metadata": {},
     "output_type": "execute_result"
    }
   ],
   "source": [
    "1+2im"
   ]
  },
  {
   "cell_type": "code",
   "execution_count": 87,
   "id": "cb293950",
   "metadata": {},
   "outputs": [
    {
     "data": {
      "text/plain": [
       "5 + 0im"
      ]
     },
     "execution_count": 87,
     "metadata": {},
     "output_type": "execute_result"
    }
   ],
   "source": [
    "(1+2im)*(1-2im)"
   ]
  },
  {
   "cell_type": "code",
   "execution_count": 88,
   "id": "6b78ad09",
   "metadata": {},
   "outputs": [
    {
     "data": {
      "text/plain": [
       "1"
      ]
     },
     "execution_count": 88,
     "metadata": {},
     "output_type": "execute_result"
    }
   ],
   "source": [
    "real(1 + 2im)"
   ]
  },
  {
   "cell_type": "code",
   "execution_count": 89,
   "id": "8a28cb05",
   "metadata": {},
   "outputs": [
    {
     "data": {
      "text/plain": [
       "2"
      ]
     },
     "execution_count": 89,
     "metadata": {},
     "output_type": "execute_result"
    }
   ],
   "source": [
    " imag(1 + 2im)"
   ]
  },
  {
   "cell_type": "code",
   "execution_count": 90,
   "id": "4f00ec67",
   "metadata": {},
   "outputs": [
    {
     "data": {
      "text/plain": [
       "1 - 2im"
      ]
     },
     "execution_count": 90,
     "metadata": {},
     "output_type": "execute_result"
    }
   ],
   "source": [
    "conj(1 + 2im) # complex conjugate"
   ]
  },
  {
   "cell_type": "code",
   "execution_count": null,
   "id": "b5877091",
   "metadata": {},
   "outputs": [],
   "source": []
  }
 ],
 "metadata": {
  "kernelspec": {
   "display_name": "Julia 1.8.5",
   "language": "julia",
   "name": "julia-1.8"
  },
  "language_info": {
   "file_extension": ".jl",
   "mimetype": "application/julia",
   "name": "julia",
   "version": "1.8.5"
  }
 },
 "nbformat": 4,
 "nbformat_minor": 5
}
