{
 "cells": [
  {
   "cell_type": "markdown",
   "id": "d37b1e65",
   "metadata": {},
   "source": [
    "## 함수"
   ]
  },
  {
   "cell_type": "code",
   "execution_count": 2,
   "id": "86843244",
   "metadata": {},
   "outputs": [
    {
     "data": {
      "text/plain": [
       "f (generic function with 1 method)"
      ]
     },
     "execution_count": 2,
     "metadata": {},
     "output_type": "execute_result"
    }
   ],
   "source": [
    "function f(x,y)\n",
    "    x+y\n",
    "end"
   ]
  },
  {
   "cell_type": "code",
   "execution_count": 3,
   "id": "0a6a7a68",
   "metadata": {},
   "outputs": [
    {
     "data": {
      "text/plain": [
       "5"
      ]
     },
     "execution_count": 3,
     "metadata": {},
     "output_type": "execute_result"
    }
   ],
   "source": [
    "f(3,2)"
   ]
  },
  {
   "cell_type": "code",
   "execution_count": 4,
   "id": "24ce9f07",
   "metadata": {},
   "outputs": [
    {
     "data": {
      "text/plain": [
       "f (generic function with 1 method)"
      ]
     },
     "execution_count": 4,
     "metadata": {},
     "output_type": "execute_result"
    }
   ],
   "source": [
    "f(x,y) = x+y #이런식도 가능"
   ]
  },
  {
   "cell_type": "code",
   "execution_count": 5,
   "id": "b2800524",
   "metadata": {},
   "outputs": [
    {
     "data": {
      "text/plain": [
       "8"
      ]
     },
     "execution_count": 5,
     "metadata": {},
     "output_type": "execute_result"
    }
   ],
   "source": [
    "g = f\n",
    "g(5,3)"
   ]
  },
  {
   "cell_type": "code",
   "execution_count": 6,
   "id": "431a7c07",
   "metadata": {},
   "outputs": [
    {
     "data": {
      "text/plain": [
       "∑ (generic function with 1 method)"
      ]
     },
     "execution_count": 6,
     "metadata": {},
     "output_type": "execute_result"
    }
   ],
   "source": [
    "∑(x,y) = x+y"
   ]
  },
  {
   "cell_type": "code",
   "execution_count": 7,
   "id": "cba012b1",
   "metadata": {},
   "outputs": [
    {
     "data": {
      "text/plain": [
       "8"
      ]
     },
     "execution_count": 7,
     "metadata": {},
     "output_type": "execute_result"
    }
   ],
   "source": [
    "∑(3,5)"
   ]
  },
  {
   "cell_type": "code",
   "execution_count": 8,
   "id": "f30e1aef",
   "metadata": {},
   "outputs": [
    {
     "data": {
      "text/plain": [
       "hypot (generic function with 1 method)"
      ]
     },
     "execution_count": 8,
     "metadata": {},
     "output_type": "execute_result"
    }
   ],
   "source": [
    "function hypot(x,y)\n",
    "    x = abs(x)\n",
    "    y = abs(y)\n",
    "    if x > y\n",
    "        r = y/x\n",
    "        return x* sqrt(1+r*r)\n",
    "    end\n",
    "    \n",
    "    if y==0\n",
    "        return zero(x)\n",
    "    end\n",
    "    \n",
    "    r = x/y\n",
    "    return y*sqrt(1+r*r)\n",
    "end\n",
    "\n"
   ]
  },
  {
   "cell_type": "code",
   "execution_count": 9,
   "id": "24e2611b",
   "metadata": {},
   "outputs": [
    {
     "data": {
      "text/plain": [
       "5.0"
      ]
     },
     "execution_count": 9,
     "metadata": {},
     "output_type": "execute_result"
    }
   ],
   "source": [
    "hypot(3,4)"
   ]
  },
  {
   "cell_type": "code",
   "execution_count": 10,
   "id": "9facc95c",
   "metadata": {},
   "outputs": [
    {
     "data": {
      "text/plain": [
       "printx (generic function with 1 method)"
      ]
     },
     "execution_count": 10,
     "metadata": {},
     "output_type": "execute_result"
    }
   ],
   "source": [
    "#반환값이 없다면 nothing\n",
    "\n",
    "function printx(x)\n",
    "    println(\"x = $x\")\n",
    "    return nothing\n",
    "end"
   ]
  },
  {
   "cell_type": "code",
   "execution_count": 11,
   "id": "ac3b99f0",
   "metadata": {},
   "outputs": [
    {
     "name": "stdout",
     "output_type": "stream",
     "text": [
      "x = 5\n"
     ]
    }
   ],
   "source": [
    "printx(5)"
   ]
  },
  {
   "cell_type": "code",
   "execution_count": 12,
   "id": "fed299c3",
   "metadata": {},
   "outputs": [
    {
     "name": "stdout",
     "output_type": "stream",
     "text": [
      "6\n",
      "6\n"
     ]
    }
   ],
   "source": [
    "println(1+2+3)\n",
    "println(+(1,2,3))"
   ]
  },
  {
   "cell_type": "markdown",
   "id": "6c846966",
   "metadata": {},
   "source": [
    "## 익명함수"
   ]
  },
  {
   "cell_type": "code",
   "execution_count": 13,
   "id": "70d38984",
   "metadata": {},
   "outputs": [
    {
     "data": {
      "text/plain": [
       "#1 (generic function with 1 method)"
      ]
     },
     "execution_count": 13,
     "metadata": {},
     "output_type": "execute_result"
    }
   ],
   "source": [
    "x -> x^2 +2x -1"
   ]
  },
  {
   "cell_type": "code",
   "execution_count": 14,
   "id": "7e9999cf",
   "metadata": {},
   "outputs": [
    {
     "data": {
      "text/plain": [
       "3-element Vector{Float64}:\n",
       " 1.0\n",
       " 4.0\n",
       " 2.0"
      ]
     },
     "execution_count": 14,
     "metadata": {},
     "output_type": "execute_result"
    }
   ],
   "source": [
    "map(round,[1.2,3.5,1.7])"
   ]
  },
  {
   "cell_type": "code",
   "execution_count": 15,
   "id": "c5a230f7",
   "metadata": {},
   "outputs": [
    {
     "data": {
      "text/plain": [
       "3-element Vector{Int64}:\n",
       "  2\n",
       " 14\n",
       " -2"
      ]
     },
     "execution_count": 15,
     "metadata": {},
     "output_type": "execute_result"
    }
   ],
   "source": [
    "map(x -> x^2 +2x -1, [1,3,-1])"
   ]
  },
  {
   "cell_type": "markdown",
   "id": "317b0bd2",
   "metadata": {},
   "source": [
    "## tuple"
   ]
  },
  {
   "cell_type": "code",
   "execution_count": 16,
   "id": "b4c4f90d",
   "metadata": {},
   "outputs": [
    {
     "data": {
      "text/plain": [
       "(1, 2)"
      ]
     },
     "execution_count": 16,
     "metadata": {},
     "output_type": "execute_result"
    }
   ],
   "source": [
    "(1,1+1)"
   ]
  },
  {
   "cell_type": "code",
   "execution_count": 17,
   "id": "4487ec96",
   "metadata": {},
   "outputs": [
    {
     "data": {
      "text/plain": [
       "(0.0, \"hello\", 42)"
      ]
     },
     "execution_count": 17,
     "metadata": {},
     "output_type": "execute_result"
    }
   ],
   "source": [
    "x=(0.0, \"hello\", 6*7)"
   ]
  },
  {
   "cell_type": "code",
   "execution_count": 18,
   "id": "f92c05e9",
   "metadata": {},
   "outputs": [
    {
     "data": {
      "text/plain": [
       "\"hello\""
      ]
     },
     "execution_count": 18,
     "metadata": {},
     "output_type": "execute_result"
    }
   ],
   "source": [
    "x[2]"
   ]
  },
  {
   "cell_type": "code",
   "execution_count": 19,
   "id": "87c7fee0",
   "metadata": {},
   "outputs": [
    {
     "data": {
      "text/plain": [
       "(a = 1, b = 2)"
      ]
     },
     "execution_count": 19,
     "metadata": {},
     "output_type": "execute_result"
    }
   ],
   "source": [
    "#지명 튜플\n",
    "x = (a = 1 , b = 1+1 )"
   ]
  },
  {
   "cell_type": "code",
   "execution_count": 20,
   "id": "f022b3c3",
   "metadata": {},
   "outputs": [
    {
     "data": {
      "text/plain": [
       "1"
      ]
     },
     "execution_count": 20,
     "metadata": {},
     "output_type": "execute_result"
    }
   ],
   "source": [
    "x.a"
   ]
  },
  {
   "cell_type": "code",
   "execution_count": 21,
   "id": "dc438a37",
   "metadata": {},
   "outputs": [
    {
     "data": {
      "text/plain": [
       "foo (generic function with 1 method)"
      ]
     },
     "execution_count": 21,
     "metadata": {},
     "output_type": "execute_result"
    }
   ],
   "source": [
    "function foo(a,b)\n",
    "    a+b , a*b\n",
    "end"
   ]
  },
  {
   "cell_type": "code",
   "execution_count": 22,
   "id": "26115f60",
   "metadata": {},
   "outputs": [
    {
     "data": {
      "text/plain": [
       "(5, 6)"
      ]
     },
     "execution_count": 22,
     "metadata": {},
     "output_type": "execute_result"
    }
   ],
   "source": [
    "foo(2,3)"
   ]
  },
  {
   "cell_type": "code",
   "execution_count": 23,
   "id": "8ea91425",
   "metadata": {},
   "outputs": [
    {
     "name": "stdout",
     "output_type": "stream",
     "text": [
      "5\n",
      "6"
     ]
    }
   ],
   "source": [
    "x,y = foo(2,3)\n",
    "print(x,\"\\n\")\n",
    "print(y)"
   ]
  },
  {
   "cell_type": "code",
   "execution_count": 24,
   "id": "2db8c2ab",
   "metadata": {},
   "outputs": [
    {
     "data": {
      "text/plain": [
       "minmax (generic function with 1 method)"
      ]
     },
     "execution_count": 24,
     "metadata": {},
     "output_type": "execute_result"
    }
   ],
   "source": [
    "minmax(x,y) = (x > y) ? (y,x) : (x,y)"
   ]
  },
  {
   "cell_type": "code",
   "execution_count": 25,
   "id": "0736bd81",
   "metadata": {},
   "outputs": [
    {
     "data": {
      "text/plain": [
       "(2, 10)"
      ]
     },
     "execution_count": 25,
     "metadata": {},
     "output_type": "execute_result"
    }
   ],
   "source": [
    "minmax(2,10)"
   ]
  },
  {
   "cell_type": "code",
   "execution_count": 26,
   "id": "84fb841f",
   "metadata": {},
   "outputs": [
    {
     "data": {
      "text/plain": [
       "(2, 10)"
      ]
     },
     "execution_count": 26,
     "metadata": {},
     "output_type": "execute_result"
    }
   ],
   "source": [
    "minmax(10,2)"
   ]
  },
  {
   "cell_type": "code",
   "execution_count": 27,
   "id": "ce4426d6",
   "metadata": {},
   "outputs": [
    {
     "data": {
      "text/plain": [
       "range (generic function with 1 method)"
      ]
     },
     "execution_count": 27,
     "metadata": {},
     "output_type": "execute_result"
    }
   ],
   "source": [
    "range((min,max)) = max - min"
   ]
  },
  {
   "cell_type": "code",
   "execution_count": 28,
   "id": "f29018d6",
   "metadata": {},
   "outputs": [
    {
     "data": {
      "text/plain": [
       "8"
      ]
     },
     "execution_count": 28,
     "metadata": {},
     "output_type": "execute_result"
    }
   ],
   "source": [
    "range(minmax(10,2))"
   ]
  },
  {
   "cell_type": "code",
   "execution_count": 29,
   "id": "a03db4b6",
   "metadata": {},
   "outputs": [
    {
     "data": {
      "text/plain": [
       "bar (generic function with 1 method)"
      ]
     },
     "execution_count": 29,
     "metadata": {},
     "output_type": "execute_result"
    }
   ],
   "source": [
    "bar(a,b,x...) = (a,b,x)"
   ]
  },
  {
   "cell_type": "code",
   "execution_count": 30,
   "id": "bd46b153",
   "metadata": {},
   "outputs": [
    {
     "name": "stdout",
     "output_type": "stream",
     "text": [
      "(1, 2, ())\n",
      "(1, 2, (3,))\n",
      "(1, 2, (3, 4))\n",
      "(1, 2, (3, 4, 5, 6))\n"
     ]
    }
   ],
   "source": [
    "println(bar(1,2))\n",
    "println(bar(1,2,3))\n",
    "println(bar(1,2,3,4))\n",
    "println(bar(1,2,3,4,5,6))"
   ]
  },
  {
   "cell_type": "markdown",
   "id": "f324ce03",
   "metadata": {},
   "source": [
    "## 제어 흐름\n",
    "    \n",
    "    조건부 계산: if, elseif, else, ?\n",
    "    복합 표현 : begin, (;)\n",
    "    단락 계산 : && , ||\n",
    "    반복 계산 : while , for\n",
    "    예외 처리 : try-catch, error 및 throw\n",
    "    태스크(일명 코루틴): yieldto"
   ]
  },
  {
   "cell_type": "code",
   "execution_count": 31,
   "id": "c8c95363",
   "metadata": {},
   "outputs": [
    {
     "data": {
      "text/plain": [
       "3"
      ]
     },
     "execution_count": 31,
     "metadata": {},
     "output_type": "execute_result"
    }
   ],
   "source": [
    "z= begin\n",
    "    x=1\n",
    "    y=2\n",
    "    x+y\n",
    "end"
   ]
  },
  {
   "cell_type": "code",
   "execution_count": 32,
   "id": "23ba74cd",
   "metadata": {},
   "outputs": [
    {
     "data": {
      "text/plain": [
       "3"
      ]
     },
     "execution_count": 32,
     "metadata": {},
     "output_type": "execute_result"
    }
   ],
   "source": [
    "z = (x = 1; y = 2 ; x+y)"
   ]
  },
  {
   "cell_type": "code",
   "execution_count": 33,
   "id": "e65c502a",
   "metadata": {},
   "outputs": [
    {
     "data": {
      "text/plain": [
       "3"
      ]
     },
     "execution_count": 33,
     "metadata": {},
     "output_type": "execute_result"
    }
   ],
   "source": [
    "begin x = 1 ; y = 2; x+y end"
   ]
  },
  {
   "cell_type": "code",
   "execution_count": 34,
   "id": "8677999c",
   "metadata": {},
   "outputs": [
    {
     "data": {
      "text/plain": [
       "3"
      ]
     },
     "execution_count": 34,
     "metadata": {},
     "output_type": "execute_result"
    }
   ],
   "source": [
    "(x = 1;\n",
    "y = 2;\n",
    "x+y)"
   ]
  },
  {
   "cell_type": "markdown",
   "id": "9113c048",
   "metadata": {},
   "source": [
    "## 조건부 계산"
   ]
  },
  {
   "cell_type": "code",
   "execution_count": 36,
   "id": "07894615",
   "metadata": {},
   "outputs": [
    {
     "data": {
      "text/plain": [
       "test (generic function with 1 method)"
      ]
     },
     "execution_count": 36,
     "metadata": {},
     "output_type": "execute_result"
    }
   ],
   "source": [
    "function test(x,y)\n",
    "    if x <  y\n",
    "        println(\"x is less then y\")\n",
    "    elseif x > y \n",
    "        println(\"x is greater then y\")\n",
    "    else\n",
    "        println(\"x is equal to y\")\n",
    "    end\n",
    "end"
   ]
  },
  {
   "cell_type": "code",
   "execution_count": 40,
   "id": "1b3e9a64",
   "metadata": {},
   "outputs": [
    {
     "name": "stdout",
     "output_type": "stream",
     "text": [
      "x is less then y\n",
      "x is greater then y\n",
      "x is equal to y\n"
     ]
    }
   ],
   "source": [
    "test(1,2)\n",
    "test(2,1)\n",
    "test(2,2)"
   ]
  },
  {
   "cell_type": "code",
   "execution_count": 41,
   "id": "90e4c68b",
   "metadata": {},
   "outputs": [
    {
     "data": {
      "text/plain": [
       "test (generic function with 1 method)"
      ]
     },
     "execution_count": 41,
     "metadata": {},
     "output_type": "execute_result"
    }
   ],
   "source": [
    "function test(x,y)\n",
    "   if x < y\n",
    "       relation = \"less than\"\n",
    "   elseif x == y\n",
    "       relation = \"equal to\"\n",
    "   else\n",
    "       relation = \"greater than\"\n",
    "   end\n",
    "   println(\"x is \", relation, \" y.\")\n",
    "end"
   ]
  },
  {
   "cell_type": "code",
   "execution_count": 42,
   "id": "c221dbf8",
   "metadata": {},
   "outputs": [
    {
     "name": "stdout",
     "output_type": "stream",
     "text": [
      "x is less than y.\n",
      "x is greater than y.\n",
      "x is equal to y.\n"
     ]
    }
   ],
   "source": [
    "test(1,2)\n",
    "test(2,1)\n",
    "test(2,2)"
   ]
  },
  {
   "cell_type": "code",
   "execution_count": 43,
   "id": "abe7edd0",
   "metadata": {},
   "outputs": [
    {
     "name": "stdout",
     "output_type": "stream",
     "text": [
      "les then\n"
     ]
    }
   ],
   "source": [
    "x = 1; y = 2;\n",
    "println(x < y ? \"less then\" : \"not less than\")"
   ]
  },
  {
   "cell_type": "code",
   "execution_count": 44,
   "id": "07c9847c",
   "metadata": {},
   "outputs": [
    {
     "name": "stdout",
     "output_type": "stream",
     "text": [
      "not less than\n"
     ]
    }
   ],
   "source": [
    "x = 3; y = 2;\n",
    "println(x < y ? \"less then\" : \"not less than\")"
   ]
  },
  {
   "cell_type": "code",
   "execution_count": 45,
   "id": "e7661065",
   "metadata": {},
   "outputs": [
    {
     "data": {
      "text/plain": [
       "test (generic function with 1 method)"
      ]
     },
     "execution_count": 45,
     "metadata": {},
     "output_type": "execute_result"
    }
   ],
   "source": [
    "test(x, y) = println(x < y ? \"x is less than y\"    :\n",
    "                            x > y ? \"x is greater than y\" : \"x is equal to y\")"
   ]
  },
  {
   "cell_type": "code",
   "execution_count": 46,
   "id": "412249ec",
   "metadata": {},
   "outputs": [
    {
     "name": "stdout",
     "output_type": "stream",
     "text": [
      "x is less than y\n",
      "x is greater than y\n",
      "x is equal to y\n"
     ]
    }
   ],
   "source": [
    "test(1,2)\n",
    "test(2,1)\n",
    "test(2,2)"
   ]
  },
  {
   "cell_type": "markdown",
   "id": "880bfaae",
   "metadata": {},
   "source": [
    "## 반복 계산: 루프"
   ]
  },
  {
   "cell_type": "code",
   "execution_count": 47,
   "id": "e3170d41",
   "metadata": {},
   "outputs": [
    {
     "data": {
      "text/plain": [
       "1"
      ]
     },
     "execution_count": 47,
     "metadata": {},
     "output_type": "execute_result"
    }
   ],
   "source": [
    "i = 1"
   ]
  },
  {
   "cell_type": "code",
   "execution_count": 48,
   "id": "4ae06ed8",
   "metadata": {},
   "outputs": [
    {
     "name": "stdout",
     "output_type": "stream",
     "text": [
      "1\n",
      "2\n",
      "3\n",
      "4\n",
      "5\n"
     ]
    }
   ],
   "source": [
    "while i <=5\n",
    "    println(i)\n",
    "    global i +=1\n",
    "end"
   ]
  },
  {
   "cell_type": "code",
   "execution_count": 49,
   "id": "81d9f0e6",
   "metadata": {},
   "outputs": [
    {
     "name": "stdout",
     "output_type": "stream",
     "text": [
      "1\n",
      "2\n",
      "3\n",
      "4\n",
      "5\n"
     ]
    }
   ],
   "source": [
    "for i = 1:5\n",
    "    println(i)\n",
    "end"
   ]
  },
  {
   "cell_type": "code",
   "execution_count": 50,
   "id": "14a3ba0b",
   "metadata": {},
   "outputs": [
    {
     "name": "stdout",
     "output_type": "stream",
     "text": [
      "1\n",
      "4\n",
      "0\n",
      "Lee\n",
      "Hyun\n",
      "Woo\n"
     ]
    }
   ],
   "source": [
    "# = 대신에 in 이나 \\in 으로 가능\n",
    "for i in [1,4,0]\n",
    "    println(i)\n",
    "end\n",
    "\n",
    "for i ∈ [\"Lee\",\"Hyun\",\"Woo\"]\n",
    "    println(i)\n",
    "end"
   ]
  },
  {
   "cell_type": "code",
   "execution_count": 51,
   "id": "b05ae2af",
   "metadata": {},
   "outputs": [
    {
     "name": "stdout",
     "output_type": "stream",
     "text": [
      "1\n",
      "2\n",
      "3\n",
      "4\n",
      "5\n"
     ]
    }
   ],
   "source": [
    "#break 가능\n",
    "for j = 1:1000\n",
    "    println(j)\n",
    "    if j>=5\n",
    "        break\n",
    "    end\n",
    "end"
   ]
  },
  {
   "cell_type": "code",
   "execution_count": 53,
   "id": "0fc0cae9",
   "metadata": {},
   "outputs": [
    {
     "name": "stdout",
     "output_type": "stream",
     "text": [
      "3\n",
      "6\n",
      "9\n"
     ]
    }
   ],
   "source": [
    "for j = 1:10\n",
    "    if j%3!=0\n",
    "        continue\n",
    "    end\n",
    "    println(j)\n",
    "end"
   ]
  },
  {
   "cell_type": "code",
   "execution_count": 54,
   "id": "0d937986",
   "metadata": {},
   "outputs": [
    {
     "name": "stdout",
     "output_type": "stream",
     "text": [
      "(1, 3)\n",
      "(1, 4)\n",
      "(2, 3)\n",
      "(2, 4)\n"
     ]
    }
   ],
   "source": [
    "for i = 1:2, j = 3:4\n",
    "    println((i,j))\n",
    "end"
   ]
  },
  {
   "cell_type": "markdown",
   "id": "dc616dd8",
   "metadata": {},
   "source": [
    "## 예외 처리\n",
    "\n",
    "    Exception  \n",
    "    ArgumentError  \n",
    "    BoundsError  \n",
    "    CompositeException  \n",
    "    DivideError  \n",
    "    DomainError  \n",
    "    EOFError  \n",
    "    ErrorException  \n",
    "    InexactError  \n",
    "    InitError  \n",
    "    InterruptException  \n",
    "    InvalidStateException  \n",
    "    KeyError  \n",
    "    LoadError  \n",
    "    OutOfMemoryError  \n",
    "    ReadOnlyMemoryError  \n",
    "    RemoteException  \n",
    "    MethodError  \n",
    "    OverflowError  \n",
    "    Meta.ParseError  \n",
    "    SystemError  \n",
    "    TypeError  \n",
    "    UndefRefError  \n",
    "    UndefVarError  \n",
    "    StringIndexError  "
   ]
  },
  {
   "cell_type": "code",
   "execution_count": null,
   "id": "8ef6699f",
   "metadata": {},
   "outputs": [],
   "source": []
  }
 ],
 "metadata": {
  "kernelspec": {
   "display_name": "Julia 1.8.5",
   "language": "julia",
   "name": "julia-1.8"
  },
  "language_info": {
   "file_extension": ".jl",
   "mimetype": "application/julia",
   "name": "julia",
   "version": "1.8.5"
  }
 },
 "nbformat": 4,
 "nbformat_minor": 5
}
