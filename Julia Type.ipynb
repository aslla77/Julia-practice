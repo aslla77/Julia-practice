{
 "cells": [
  {
   "cell_type": "markdown",
   "id": "2e7b6bfb",
   "metadata": {},
   "source": [
    "# Array\n",
    "\n",
    "\n",
    "|함수         | \t설명|\n",
    "|:-----------|:---------|\n",
    "|eltype(A)   |\tA 의 원소 타입|\n",
    "|length(A)   |\tA 의 원소 갯수| \n",
    "|ndims(A)    |\tA 의 차원수|\n",
    "|size(A)     |\tA 의 크기 튜플|\n",
    "|size(A,n)   |\tA 의 n 차원의 크기|\n",
    "|axes(A)     |\tA 의 유효한 인덱스 튜플|\n",
    "|axes(A,n)   |\tA 의 유효 인덱스 n차원 범위(range)|\n",
    "|eachindex(A)|\tA 의 모든 위치를 방문하는 효율적인 반복자(iterator)|\n",
    "|stride(A,k) |\tk 차원 방향의 스트라이드 (연속한 원소 간의 선형 인덱스 거리)|\n",
    "|strides(A)  |\t모든 차원의 스트라이드 튜플|"
   ]
  },
  {
   "cell_type": "markdown",
   "id": "d2f0bf9d",
   "metadata": {},
   "source": [
    "## 생성과 초기화\n",
    "\n",
    "|함수|\t설명|\n",
    "|:--- |:--- |\n",
    "|Array{T}(undef, dims...)|\t초기화 되지 않은 밀집 Array|\n",
    "|zeros(T, dims...)|\t모든 값이 0으로 초기화 된 Array|\n",
    "|ones(T, dims...)|\t모든 값이 1로 초기화 된 Array|\n",
    "|trues(dims...)|\t모든 값이 true로 초기화 된 BitArray|\n",
    "|falses(dims...)|\t모든 값이 false로 초기화 된 BitArray|\n",
    "|reshape(A, dims...)|\tA 와 동일한 데이타를 가지고 있지만 형상이 다른 배열|\n",
    "|copy(A)|\tA 의 얕은 복사|\n",
    "|deepcopy(A)|\tA 의 깊은 복사 (모든 원소를 재귀적으로 복사함)|\n",
    "|similar(A, T, dims...)|\tA 와 동일한 종류(밀집, 희소, 등)의 초기화 되지 않은 배열. 지정된 원소 타입과 형상을 가짐. 두번째와 세번째 인수는 선택적이며, 기본값은 A의 원소타입과 차원이다.|\n",
    "|reinterpret(T, A)|\tA 와 동일한 이진 데이터를 가지고 있지만, 원소 타입이 T 인 배열|\n",
    "|rand(T, dims...)|\t독립 동일하며 열린구간 \\[0,1)상에서 연속 균일 분포를 가진 랜덤 Array|\n",
    "|randn(T, dims...)|\t독립 동일하며 표준 정규 분포를 가진 랜덤 Array|\n",
    "|Matrix{T}(I, m, n)|\t크기가 m × n 인 단위 행렬|\n",
    "|range(start, stop=stop, length=n)|\tstart에서 stop까지 n 개의 원소가 선형적으로 배치된 구간|\n",
    "|fill!(A, x)|\t배열 A 를 x 값으로 채우기|\n",
    "|fill(x, dims...)|\tx 값으로 차 있는 Array|"
   ]
  },
  {
   "cell_type": "code",
   "execution_count": 18,
   "id": "96d9bc73",
   "metadata": {},
   "outputs": [
    {
     "data": {
      "text/plain": [
       "2×3 Matrix{Int8}:\n",
       " 0  0  0\n",
       " 0  0  0"
      ]
     },
     "execution_count": 18,
     "metadata": {},
     "output_type": "execute_result"
    }
   ],
   "source": [
    "zeros(Int8,2,3)"
   ]
  },
  {
   "cell_type": "code",
   "execution_count": 20,
   "id": "cf877ca9",
   "metadata": {},
   "outputs": [
    {
     "data": {
      "text/plain": [
       "2×3 Matrix{Int8}:\n",
       " 0  0  0\n",
       " 0  0  0"
      ]
     },
     "execution_count": 20,
     "metadata": {},
     "output_type": "execute_result"
    }
   ],
   "source": [
    "zeros(Int8,(2,3))"
   ]
  },
  {
   "cell_type": "code",
   "execution_count": 21,
   "id": "98a54bfd",
   "metadata": {},
   "outputs": [
    {
     "data": {
      "text/plain": [
       "2×3 Matrix{Float64}:\n",
       " 0.0  0.0  0.0\n",
       " 0.0  0.0  0.0"
      ]
     },
     "execution_count": 21,
     "metadata": {},
     "output_type": "execute_result"
    }
   ],
   "source": [
    "zeros(2,3)"
   ]
  },
  {
   "cell_type": "code",
   "execution_count": 22,
   "id": "d3033d2b",
   "metadata": {},
   "outputs": [
    {
     "data": {
      "text/plain": [
       "3-element Vector{Int64}:\n",
       " 1\n",
       " 2\n",
       " 3"
      ]
     },
     "execution_count": 22,
     "metadata": {},
     "output_type": "execute_result"
    }
   ],
   "source": [
    "vcat([1, 2], 3)"
   ]
  },
  {
   "cell_type": "code",
   "execution_count": 24,
   "id": "b3f5b945",
   "metadata": {},
   "outputs": [
    {
     "data": {
      "text/plain": [
       "1×3 Matrix{Int64}:\n",
       " 1  2  3"
      ]
     },
     "execution_count": 24,
     "metadata": {},
     "output_type": "execute_result"
    }
   ],
   "source": [
    "hcat([1 2], 3)"
   ]
  },
  {
   "cell_type": "code",
   "execution_count": 1,
   "id": "c2886fc3",
   "metadata": {},
   "outputs": [
    {
     "data": {
      "text/plain": [
       "4-element Vector{Int64}:\n",
       " 1\n",
       " 2\n",
       " 3\n",
       " 4"
      ]
     },
     "execution_count": 1,
     "metadata": {},
     "output_type": "execute_result"
    }
   ],
   "source": [
    "[[1; 2]; [3, 4]]"
   ]
  },
  {
   "cell_type": "code",
   "execution_count": 2,
   "id": "c5ee8282",
   "metadata": {},
   "outputs": [
    {
     "data": {
      "text/plain": [
       "1×4 Matrix{Int64}:\n",
       " 1  2  3  4"
      ]
     },
     "execution_count": 2,
     "metadata": {},
     "output_type": "execute_result"
    }
   ],
   "source": [
    "[[1 2] [3 4]]"
   ]
  },
  {
   "cell_type": "code",
   "execution_count": 3,
   "id": "925b44bf",
   "metadata": {},
   "outputs": [
    {
     "data": {
      "text/plain": [
       "2×2 Matrix{Int64}:\n",
       " 1  2\n",
       " 3  4"
      ]
     },
     "execution_count": 3,
     "metadata": {},
     "output_type": "execute_result"
    }
   ],
   "source": [
    "[[1 2]; [3 4]]"
   ]
  },
  {
   "cell_type": "code",
   "execution_count": 4,
   "id": "ce6f30b1",
   "metadata": {},
   "outputs": [
    {
     "data": {
      "text/plain": [
       "4-element Vector{Int64}:\n",
       " 1\n",
       " 2\n",
       " 3\n",
       " 4"
      ]
     },
     "execution_count": 4,
     "metadata": {},
     "output_type": "execute_result"
    }
   ],
   "source": [
    "[[1;2;];[3;4;]]"
   ]
  },
  {
   "cell_type": "code",
   "execution_count": 11,
   "id": "3a09d8d1",
   "metadata": {},
   "outputs": [
    {
     "data": {
      "text/plain": [
       "8-element Vector{Float64}:\n",
       " 0.6225644932737155\n",
       " 0.5357023288053997\n",
       " 0.5150649849125241\n",
       " 0.6321006197406154\n",
       " 0.27323982064155894\n",
       " 0.3742796690600446\n",
       " 0.2724426447862015\n",
       " 0.9435054573325868"
      ]
     },
     "execution_count": 11,
     "metadata": {},
     "output_type": "execute_result"
    }
   ],
   "source": [
    "x= rand(8)"
   ]
  },
  {
   "cell_type": "code",
   "execution_count": 12,
   "id": "c3f29047",
   "metadata": {},
   "outputs": [
    {
     "data": {
      "text/plain": [
       "6-element Vector{Float64}:\n",
       " 0.5522585339492597\n",
       " 0.5494832295927659\n",
       " 0.5131265112588285\n",
       " 0.38821498252094444\n",
       " 0.3235604508869624\n",
       " 0.4656676039912586"
      ]
     },
     "execution_count": 12,
     "metadata": {},
     "output_type": "execute_result"
    }
   ],
   "source": [
    "[ 0.25*x[i-1] + 0.5*x[i] + 0.25*x[i+1] for i=2:length(x)-1 ]"
   ]
  },
  {
   "cell_type": "code",
   "execution_count": 13,
   "id": "2cd2710d",
   "metadata": {},
   "outputs": [
    {
     "data": {
      "text/plain": [
       "6-element Vector{Float32}:\n",
       " 0.55225855\n",
       " 0.54948324\n",
       " 0.5131265\n",
       " 0.38821498\n",
       " 0.32356045\n",
       " 0.4656676"
      ]
     },
     "execution_count": 13,
     "metadata": {},
     "output_type": "execute_result"
    }
   ],
   "source": [
    "Float32[ 0.25*x[i-1] + 0.5*x[i] + 0.25*x[i+1] for i=2:length(x)-1 ]"
   ]
  },
  {
   "cell_type": "code",
   "execution_count": 14,
   "id": "a33a8e1d",
   "metadata": {},
   "outputs": [
    {
     "data": {
      "text/plain": [
       "1.6439345666815615"
      ]
     },
     "execution_count": 14,
     "metadata": {},
     "output_type": "execute_result"
    }
   ],
   "source": [
    "sum(1/n^2 for n=1:1000)"
   ]
  },
  {
   "cell_type": "code",
   "execution_count": 17,
   "id": "1656c4b6",
   "metadata": {},
   "outputs": [
    {
     "data": {
      "text/plain": [
       "2×2 Matrix{Tuple{Float64, Int64}}:\n",
       " (0.5, 1)       (0.333333, 3)\n",
       " (0.333333, 2)  (0.25, 4)"
      ]
     },
     "execution_count": 17,
     "metadata": {},
     "output_type": "execute_result"
    }
   ],
   "source": [
    "map(tuple, (1/(i+j) for i=1:2, j=1:2), [1 3 ; 2 4])"
   ]
  },
  {
   "cell_type": "code",
   "execution_count": 19,
   "id": "784f4ce2",
   "metadata": {},
   "outputs": [
    {
     "data": {
      "text/plain": [
       "6-element Vector{Tuple{Int64, Int64}}:\n",
       " (1, 1)\n",
       " (2, 1)\n",
       " (2, 2)\n",
       " (3, 1)\n",
       " (3, 2)\n",
       " (3, 3)"
      ]
     },
     "execution_count": 19,
     "metadata": {},
     "output_type": "execute_result"
    }
   ],
   "source": [
    "[ (i,j) for i=1:3 for j=1:i]"
   ]
  },
  {
   "cell_type": "code",
   "execution_count": 20,
   "id": "34942d45",
   "metadata": {},
   "outputs": [
    {
     "data": {
      "text/plain": [
       "2-element Vector{Tuple{Int64, Int64}}:\n",
       " (2, 2)\n",
       " (3, 1)"
      ]
     },
     "execution_count": 20,
     "metadata": {},
     "output_type": "execute_result"
    }
   ],
   "source": [
    "[ (i,j) for i=1:3 for j=1:i if i+j == 4]"
   ]
  },
  {
   "cell_type": "markdown",
   "id": "85c503fd",
   "metadata": {},
   "source": [
    "## 인덱싱"
   ]
  },
  {
   "cell_type": "code",
   "execution_count": 21,
   "id": "5f9d2bef",
   "metadata": {},
   "outputs": [
    {
     "data": {
      "text/plain": [
       "2×2×2×2 Array{Int64, 4}:\n",
       "[:, :, 1, 1] =\n",
       " 1  3\n",
       " 2  4\n",
       "\n",
       "[:, :, 2, 1] =\n",
       " 5  7\n",
       " 6  8\n",
       "\n",
       "[:, :, 1, 2] =\n",
       "  9  11\n",
       " 10  12\n",
       "\n",
       "[:, :, 2, 2] =\n",
       " 13  15\n",
       " 14  16"
      ]
     },
     "execution_count": 21,
     "metadata": {},
     "output_type": "execute_result"
    }
   ],
   "source": [
    "A= reshape(collect(1:16), (2,2,2,2))"
   ]
  },
  {
   "cell_type": "code",
   "execution_count": 22,
   "id": "d9f4e0a8",
   "metadata": {},
   "outputs": [
    {
     "data": {
      "text/plain": [
       "3"
      ]
     },
     "execution_count": 22,
     "metadata": {},
     "output_type": "execute_result"
    }
   ],
   "source": [
    "A[1,2,1,1]"
   ]
  },
  {
   "cell_type": "code",
   "execution_count": 23,
   "id": "208b514a",
   "metadata": {},
   "outputs": [
    {
     "data": {
      "text/plain": [
       "2×1×2×1 Array{Int64, 4}:\n",
       "[:, :, 1, 1] =\n",
       " 1\n",
       " 2\n",
       "\n",
       "[:, :, 2, 1] =\n",
       " 5\n",
       " 6"
      ]
     },
     "execution_count": 23,
     "metadata": {},
     "output_type": "execute_result"
    }
   ],
   "source": [
    "A[[1,2],[1],[1,2],[1]]"
   ]
  },
  {
   "cell_type": "code",
   "execution_count": 24,
   "id": "8425a28c",
   "metadata": {},
   "outputs": [
    {
     "data": {
      "text/plain": [
       "2×1×2 Array{Int64, 3}:\n",
       "[:, :, 1] =\n",
       " 1\n",
       " 2\n",
       "\n",
       "[:, :, 2] =\n",
       " 5\n",
       " 6"
      ]
     },
     "execution_count": 24,
     "metadata": {},
     "output_type": "execute_result"
    }
   ],
   "source": [
    "A[[1,2],[1],[1,2],1]"
   ]
  },
  {
   "cell_type": "code",
   "execution_count": 25,
   "id": "c61399fe",
   "metadata": {},
   "outputs": [
    {
     "data": {
      "text/plain": [
       "2×2 Matrix{Int64}:\n",
       " 1  2\n",
       " 1  2"
      ]
     },
     "execution_count": 25,
     "metadata": {},
     "output_type": "execute_result"
    }
   ],
   "source": [
    "A[[1 2; 1 2]]"
   ]
  },
  {
   "cell_type": "code",
   "execution_count": 26,
   "id": "04730d15",
   "metadata": {},
   "outputs": [
    {
     "data": {
      "text/plain": [
       "2×2 Matrix{Int64}:\n",
       " 5  6\n",
       " 5  6"
      ]
     },
     "execution_count": 26,
     "metadata": {},
     "output_type": "execute_result"
    }
   ],
   "source": [
    "A[[1 2; 1 2],1,2,1]"
   ]
  },
  {
   "cell_type": "code",
   "execution_count": 28,
   "id": "b5ce4967",
   "metadata": {},
   "outputs": [
    {
     "data": {
      "text/plain": [
       "3×3 Matrix{Int64}:\n",
       " 1  4  7\n",
       " 2  5  8\n",
       " 3  6  9"
      ]
     },
     "execution_count": 28,
     "metadata": {},
     "output_type": "execute_result"
    }
   ],
   "source": [
    "x = collect(reshape(1:9, 3, 3))"
   ]
  },
  {
   "cell_type": "code",
   "execution_count": 32,
   "id": "c6ac5ade",
   "metadata": {},
   "outputs": [
    {
     "data": {
      "text/plain": [
       "3×3 Matrix{Int64}:\n",
       " -1  -4   7\n",
       " -2  -5   8\n",
       "  3   6  -9"
      ]
     },
     "execution_count": 32,
     "metadata": {},
     "output_type": "execute_result"
    }
   ],
   "source": [
    "x[3,3]=-9\n",
    "x[1:2,1:2]=[-1  -4 ; -2 -5]\n",
    "x"
   ]
  },
  {
   "cell_type": "markdown",
   "id": "152ccece",
   "metadata": {},
   "source": [
    "## 직교 인덱스(Cartesian indices)"
   ]
  },
  {
   "cell_type": "code",
   "execution_count": 35,
   "id": "714de360",
   "metadata": {},
   "outputs": [
    {
     "data": {
      "text/plain": [
       "4×4×2 reshape(::UnitRange{Int64}, 4, 4, 2) with eltype Int64:\n",
       "[:, :, 1] =\n",
       " 1  5   9  13\n",
       " 2  6  10  14\n",
       " 3  7  11  15\n",
       " 4  8  12  16\n",
       "\n",
       "[:, :, 2] =\n",
       " 17  21  25  29\n",
       " 18  22  26  30\n",
       " 19  23  27  31\n",
       " 20  24  28  32"
      ]
     },
     "execution_count": 35,
     "metadata": {},
     "output_type": "execute_result"
    }
   ],
   "source": [
    "A = reshape(1:32, 4, 4, 2);\n",
    "A"
   ]
  },
  {
   "cell_type": "code",
   "execution_count": 36,
   "id": "7d1c6cab",
   "metadata": {},
   "outputs": [
    {
     "data": {
      "text/plain": [
       "7"
      ]
     },
     "execution_count": 36,
     "metadata": {},
     "output_type": "execute_result"
    }
   ],
   "source": [
    "A[3,2,1]"
   ]
  },
  {
   "cell_type": "code",
   "execution_count": 37,
   "id": "c205ba3b",
   "metadata": {},
   "outputs": [
    {
     "data": {
      "text/plain": [
       "true"
      ]
     },
     "execution_count": 37,
     "metadata": {},
     "output_type": "execute_result"
    }
   ],
   "source": [
    "A[CartesianIndex(3,2,1)] ==A[3,2,1]==7"
   ]
  },
  {
   "cell_type": "code",
   "execution_count": 38,
   "id": "04b8813e",
   "metadata": {},
   "outputs": [
    {
     "data": {
      "text/plain": [
       "4×4 Matrix{Int64}:\n",
       " 1  5   9  13\n",
       " 2  6  10  14\n",
       " 3  7  11  15\n",
       " 4  8  12  16"
      ]
     },
     "execution_count": 38,
     "metadata": {},
     "output_type": "execute_result"
    }
   ],
   "source": [
    "page = A[:,:,1]"
   ]
  },
  {
   "cell_type": "code",
   "execution_count": 39,
   "id": "d42bc52a",
   "metadata": {},
   "outputs": [
    {
     "data": {
      "text/plain": [
       "4-element Vector{Int64}:\n",
       "  1\n",
       "  6\n",
       " 11\n",
       " 16"
      ]
     },
     "execution_count": 39,
     "metadata": {},
     "output_type": "execute_result"
    }
   ],
   "source": [
    "page[[CartesianIndex(1,1),\n",
    "             CartesianIndex(2,2),\n",
    "             CartesianIndex(3,3),\n",
    "             CartesianIndex(4,4)]]"
   ]
  },
  {
   "cell_type": "markdown",
   "id": "b1d99cdc",
   "metadata": {},
   "source": [
    "## 논리 인덱싱"
   ]
  },
  {
   "cell_type": "code",
   "execution_count": 40,
   "id": "ac1e9ea7",
   "metadata": {},
   "outputs": [
    {
     "data": {
      "text/plain": [
       "4×4 reshape(::UnitRange{Int64}, 4, 4) with eltype Int64:\n",
       " 1  5   9  13\n",
       " 2  6  10  14\n",
       " 3  7  11  15\n",
       " 4  8  12  16"
      ]
     },
     "execution_count": 40,
     "metadata": {},
     "output_type": "execute_result"
    }
   ],
   "source": [
    "x = reshape(1:16,4,4)"
   ]
  },
  {
   "cell_type": "code",
   "execution_count": 41,
   "id": "d73d4292",
   "metadata": {},
   "outputs": [
    {
     "data": {
      "text/plain": [
       "2×4 Matrix{Int64}:\n",
       " 2  6  10  14\n",
       " 3  7  11  15"
      ]
     },
     "execution_count": 41,
     "metadata": {},
     "output_type": "execute_result"
    }
   ],
   "source": [
    "x[[false,true,true,false],:]"
   ]
  },
  {
   "cell_type": "code",
   "execution_count": 42,
   "id": "19d1480b",
   "metadata": {},
   "outputs": [
    {
     "data": {
      "text/plain": [
       "2×4 Matrix{Int64}:\n",
       " 2  6  10  14\n",
       " 3  7  11  15"
      ]
     },
     "execution_count": 42,
     "metadata": {},
     "output_type": "execute_result"
    }
   ],
   "source": [
    "x[[2,3],:]"
   ]
  },
  {
   "cell_type": "code",
   "execution_count": 43,
   "id": "023c0447",
   "metadata": {},
   "outputs": [
    {
     "data": {
      "text/plain": [
       "4×4 Matrix{Bool}:\n",
       " 1  0  0  0\n",
       " 1  0  0  0\n",
       " 0  0  0  0\n",
       " 1  1  0  1"
      ]
     },
     "execution_count": 43,
     "metadata": {},
     "output_type": "execute_result"
    }
   ],
   "source": [
    "mask= map(ispow2,x)"
   ]
  },
  {
   "cell_type": "code",
   "execution_count": 44,
   "id": "9130eeb8",
   "metadata": {},
   "outputs": [
    {
     "name": "stdout",
     "output_type": "stream",
     "text": [
      "[0.4992727589070719 0.46245363606356205 0.43181950430955773; 0.48800775487901826 0.09049143961642037 0.7009032469508479; 0.4729589052004942 0.9587092972065467 0.8548123406690247; 0.9704754701527049 0.3794029569253402 0.08455747499169142]\n",
      "[0.46245363606356205 0.43181950430955773; 0.09049143961642037 0.7009032469508479; 0.9587092972065467 0.8548123406690247]\n"
     ]
    }
   ],
   "source": [
    "A = rand(4,3);\n",
    "B = view(A, 1:3, 2:3);\n",
    "println(A)\n",
    "println(B)"
   ]
  },
  {
   "cell_type": "code",
   "execution_count": 46,
   "id": "92c5ce51",
   "metadata": {},
   "outputs": [
    {
     "name": "stdout",
     "output_type": "stream",
     "text": [
      "i = CartesianIndex(1, 1)\n",
      "i = CartesianIndex(2, 1)\n",
      "i = CartesianIndex(3, 1)\n",
      "i = CartesianIndex(1, 2)\n",
      "i = CartesianIndex(2, 2)\n",
      "i = CartesianIndex(3, 2)\n"
     ]
    }
   ],
   "source": [
    "for i in eachindex(B)\n",
    "    @show i\n",
    "end"
   ]
  },
  {
   "cell_type": "code",
   "execution_count": 47,
   "id": "ea408556",
   "metadata": {},
   "outputs": [
    {
     "name": "stdout",
     "output_type": "stream",
     "text": [
      "[0.32670730609119814; 0.7801338322989575;;]\n",
      "[0.7629621270808935 0.6486527675717206 0.40221060667656305; 0.8407165904618318 0.11356630967262937 0.3025065906078329]\n"
     ]
    }
   ],
   "source": [
    "a = rand(2,1); A = rand(2,3);\n",
    "println(a)\n",
    "println(A)"
   ]
  },
  {
   "cell_type": "code",
   "execution_count": 48,
   "id": "75ca127a",
   "metadata": {},
   "outputs": [
    {
     "data": {
      "text/plain": [
       "2×3 Matrix{Float64}:\n",
       " 1.08967  0.97536  0.728918\n",
       " 1.62085  0.8937   1.08264"
      ]
     },
     "execution_count": 48,
     "metadata": {},
     "output_type": "execute_result"
    }
   ],
   "source": [
    "repeat(a,1,3)+A"
   ]
  },
  {
   "cell_type": "code",
   "execution_count": 49,
   "id": "0ddc1ca4",
   "metadata": {},
   "outputs": [
    {
     "data": {
      "text/plain": [
       "2-element Vector{Float32}:\n",
       " 1.0\n",
       " 2.0"
      ]
     },
     "execution_count": 49,
     "metadata": {},
     "output_type": "execute_result"
    }
   ],
   "source": [
    "convert.(Float32, [1, 2])"
   ]
  },
  {
   "cell_type": "code",
   "execution_count": 50,
   "id": "6f369328",
   "metadata": {},
   "outputs": [
    {
     "data": {
      "text/plain": [
       "3-element Vector{String}:\n",
       " \"1. First\"\n",
       " \"2. Second\"\n",
       " \"3. Third\""
      ]
     },
     "execution_count": 50,
     "metadata": {},
     "output_type": "execute_result"
    }
   ],
   "source": [
    "string.(1:3, \". \", [\"First\", \"Second\", \"Third\"])"
   ]
  },
  {
   "cell_type": "code",
   "execution_count": null,
   "id": "4ecc2929",
   "metadata": {},
   "outputs": [],
   "source": []
  }
 ],
 "metadata": {
  "kernelspec": {
   "display_name": "Julia 1.8.5",
   "language": "julia",
   "name": "julia-1.8"
  },
  "language_info": {
   "file_extension": ".jl",
   "mimetype": "application/julia",
   "name": "julia",
   "version": "1.8.5"
  }
 },
 "nbformat": 4,
 "nbformat_minor": 5
}
